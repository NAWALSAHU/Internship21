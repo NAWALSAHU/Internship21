{
 "cells": [
  {
   "cell_type": "markdown",
   "id": "8a68eec4",
   "metadata": {},
   "source": [
    "Q11 to Q15 are programming questions. Answer them in Jupyter Notebook."
   ]
  },
  {
   "cell_type": "raw",
   "id": "f701b899",
   "metadata": {},
   "source": [
    "11. Write a python program to find the factorial of a number."
   ]
  },
  {
   "cell_type": "code",
   "execution_count": 5,
   "id": "0fb216ef",
   "metadata": {},
   "outputs": [
    {
     "name": "stdout",
     "output_type": "stream",
     "text": [
      "factorial of 5 is 120\n"
     ]
    }
   ],
   "source": [
    "def factorial(n):\n",
    "    return 1 if (n==0 or n==1) else n*factorial(n-1);\n",
    "    \n",
    "num = 5;\n",
    "print(\"factorial of\",num,\"is\",factorial(num))"
   ]
  },
  {
   "cell_type": "code",
   "execution_count": 6,
   "id": "b505fa62",
   "metadata": {},
   "outputs": [
    {
     "name": "stdout",
     "output_type": "stream",
     "text": [
      "factorial of 5 is 120\n"
     ]
    }
   ],
   "source": [
    "def factorial(n):\n",
    "    if n<0:\n",
    "        return 0\n",
    "    elif n==0 or n==1:\n",
    "        return 1\n",
    "    else:\n",
    "        fact = 1\n",
    "        while(n>1):\n",
    "            fact*=n\n",
    "            n -=1\n",
    "        return fact\n",
    "num = 5;\n",
    "print(\"factorial of\", num, \"is\",factorial(num))\n"
   ]
  },
  {
   "cell_type": "code",
   "execution_count": 7,
   "id": "058b8678",
   "metadata": {},
   "outputs": [
    {
     "name": "stdout",
     "output_type": "stream",
     "text": [
      "factorial of 5 is 120\n"
     ]
    }
   ],
   "source": [
    "import math\n",
    "def factorial(n):\n",
    "    return (math.factorial(n))\n",
    "num = 5\n",
    "print(\"factorial of\", num,\"is\",factorial(num))"
   ]
  },
  {
   "cell_type": "raw",
   "id": "61c39571",
   "metadata": {},
   "source": [
    "12. Write a python program to find whether a number is prime or composite."
   ]
  },
  {
   "cell_type": "code",
   "execution_count": 10,
   "id": "ecdb72fb",
   "metadata": {},
   "outputs": [
    {
     "name": "stdout",
     "output_type": "stream",
     "text": [
      "enter your number97\n",
      "97 is a prime number\n"
     ]
    }
   ],
   "source": [
    "Num = int(input(\"enter your number\"))\n",
    "if Num >1:\n",
    "    for i in range(2,int(Num/2)+1):\n",
    "        if (Num%i)==0:\n",
    "            print(Num, \"is a composite number\")\n",
    "            break\n",
    "                \n",
    "    else:\n",
    "        print(Num, \"is a prime number\")\n",
    "        \n",
    "else:\n",
    "    print(Num,\"is a composite number\")"
   ]
  },
  {
   "cell_type": "raw",
   "id": "7d4bdedc",
   "metadata": {},
   "source": [
    "13. Write a python program to check whether a given string is palindrome or not"
   ]
  },
  {
   "cell_type": "code",
   "execution_count": 15,
   "id": "e9ef20c4",
   "metadata": {},
   "outputs": [
    {
     "name": "stdout",
     "output_type": "stream",
     "text": [
      "Yes\n"
     ]
    }
   ],
   "source": [
    "def isPalindrome(str):\n",
    " \n",
    "    for i in range(0, int(len(str)/2)):\n",
    "        if str[i] != str[len(str)-i-1]:\n",
    "            return False\n",
    "    return True\n",
    " \n",
    "s = \"malayalam\"\n",
    "ans = isPalindrome(s)\n",
    " \n",
    "if (ans):\n",
    "    print(\"Yes\")\n",
    "else:\n",
    "    print(\"No\")"
   ]
  },
  {
   "cell_type": "code",
   "execution_count": 17,
   "id": "8a075f64",
   "metadata": {},
   "outputs": [
    {
     "name": "stdout",
     "output_type": "stream",
     "text": [
      "No\n"
     ]
    }
   ],
   "source": [
    "def isPalindrome(s):\n",
    "    return s == s[::-1]\n",
    " \n",
    "s = \"karan\"\n",
    "ans = isPalindrome(s)\n",
    " \n",
    "if ans:\n",
    "    print(\"Yes\")\n",
    "else:\n",
    "    print(\"No\")"
   ]
  },
  {
   "cell_type": "raw",
   "id": "493e53af",
   "metadata": {},
   "source": [
    "14. Write a Python program to get the third side of right-angled triangle from two given sides."
   ]
  },
  {
   "cell_type": "code",
   "execution_count": 18,
   "id": "ec08d2bf",
   "metadata": {},
   "outputs": [
    {
     "name": "stdout",
     "output_type": "stream",
     "text": [
      "5.0\n"
     ]
    }
   ],
   "source": [
    "def findHypotenuse(side1, side2):\n",
    " \n",
    "    h = (((side1 * side1) + (side2 * side2))**(1/2));\n",
    "    return h;\n",
    " \n",
    "side1 = 3;\n",
    "side2 = 4;\n",
    " \n",
    "print(findHypotenuse(side1, side2));"
   ]
  },
  {
   "cell_type": "raw",
   "id": "174e6f0a",
   "metadata": {},
   "source": [
    "15. Write a python program to print the frequency of each of the characters present in a given string."
   ]
  },
  {
   "cell_type": "code",
   "execution_count": 20,
   "id": "53f282b7",
   "metadata": {},
   "outputs": [
    {
     "name": "stdout",
     "output_type": "stream",
     "text": [
      "Count of all characters in fliprobotechnologies is :\n",
      " {'f': 1, 'l': 2, 'i': 2, 'p': 1, 'r': 1, 'o': 4, 'b': 1, 't': 1, 'e': 2, 'c': 1, 'h': 1, 'n': 1, 'g': 1, 's': 1}\n"
     ]
    }
   ],
   "source": [
    "test_str = \"fliprobotechnologies\"\n",
    "  \n",
    "all_freq = {}\n",
    "  \n",
    "for i in test_str:\n",
    "    if i in all_freq:\n",
    "        all_freq[i] += 1\n",
    "    else:\n",
    "        all_freq[i] = 1\n",
    "  \n",
    "print (\"Count of all characters in fliprobotechnologies is :\\n \"\n",
    "                                        +  str(all_freq))"
   ]
  },
  {
   "cell_type": "code",
   "execution_count": null,
   "id": "6286f7f1",
   "metadata": {},
   "outputs": [],
   "source": []
  }
 ],
 "metadata": {
  "kernelspec": {
   "display_name": "Python 3",
   "language": "python",
   "name": "python3"
  },
  "language_info": {
   "codemirror_mode": {
    "name": "ipython",
    "version": 3
   },
   "file_extension": ".py",
   "mimetype": "text/x-python",
   "name": "python",
   "nbconvert_exporter": "python",
   "pygments_lexer": "ipython3",
   "version": "3.8.8"
  }
 },
 "nbformat": 4,
 "nbformat_minor": 5
}
